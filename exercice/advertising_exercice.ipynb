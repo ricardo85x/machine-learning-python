{
 "cells": [
  {
   "cell_type": "code",
   "execution_count": 10,
   "metadata": {},
   "outputs": [
    {
     "name": "stdout",
     "output_type": "stream",
     "text": [
      "{'test': ['TV', 'Radio'], 'performance': 1.5821239241271172}\n"
     ]
    }
   ],
   "source": [
    "import pandas as pd\n",
    "import numpy as np\n",
    "from sklearn import metrics\n",
    "from sklearn.model_selection import train_test_split\n",
    "from sklearn.linear_model import LinearRegression\n",
    "\n",
    "advertising = pd.read_csv(\"../assets/advertising.csv\", index_col=0)\n",
    "\n",
    "advertising.head()\n",
    "\n",
    "test_combination = [\n",
    "    [\"TV\", \"Radio\"],\n",
    "    [\"Radio\", \"Newspaper\"],\n",
    "    [\"TV\", \"Newspaper\"],\n",
    "    [\"TV\", \"Radio\", \"Newspaper\"],\n",
    "]\n",
    "\n",
    "winner = {\"test\": \"\", \"performance\": 999999}\n",
    "\n",
    "y = advertising[\"Sales\"]\n",
    "for test in test_combination:\n",
    "    x = advertising[test]\n",
    "    x_train, x_test, y_train, y_test = train_test_split(\n",
    "        x, y, test_size=0.3, random_state=5\n",
    "    )\n",
    "    reglin = LinearRegression()\n",
    "    reglin.fit(x_train, y_train)\n",
    "\n",
    "    y_prediction = reglin.predict(x_test)\n",
    "\n",
    "    rmse = np.sqrt(metrics.mean_squared_error(y_test, y_prediction))\n",
    "\n",
    "    if rmse < winner[\"performance\"]:\n",
    "        winner[\"test\"] = test\n",
    "        winner[\"performance\"] = rmse\n",
    "\n",
    "print(winner)"
   ]
  }
 ],
 "metadata": {
  "kernelspec": {
   "display_name": "venv",
   "language": "python",
   "name": "python3"
  },
  "language_info": {
   "codemirror_mode": {
    "name": "ipython",
    "version": 3
   },
   "file_extension": ".py",
   "mimetype": "text/x-python",
   "name": "python",
   "nbconvert_exporter": "python",
   "pygments_lexer": "ipython3",
   "version": "3.10.12"
  }
 },
 "nbformat": 4,
 "nbformat_minor": 2
}
