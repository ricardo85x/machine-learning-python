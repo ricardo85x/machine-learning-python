{
 "cells": [
  {
   "cell_type": "markdown",
   "id": "bdbc15a9-ee23-4f03-b20c-6de9a4e2c7c3",
   "metadata": {},
   "source": [
    "# Iris Dataset\n",
    "It is a collection of 150 samples of Iris flowers\n",
    "\n",
    "We have 50 samples for each species, so we have 3 species\n",
    "\n",
    "In this dataset we have the width and length of the petal and sepal of each item\n",
    "\n",
    "## Goal\n",
    "Train the computer to recognize the species of an Iris flower based on the measurement\n",
    "\n",
    "### Import Iris Dataset"
   ]
  },
  {
   "cell_type": "code",
   "execution_count": null,
   "id": "7b684054-ba38-48b0-9e55-6f4b19725d93",
   "metadata": {},
   "outputs": [],
   "source": [
    "from sklearn.datasets import load_iris\n",
    "iris = load_iris()\n"
   ]
  },
  {
   "cell_type": "markdown",
   "id": "4214038f-4166-4c49-b7be-c72a0e93b8a2",
   "metadata": {},
   "source": [
    "### Observations (Sample data)"
   ]
  },
  {
   "cell_type": "code",
   "execution_count": null,
   "id": "ab9a9dff-e284-4c03-a7d1-245a854a2ec5",
   "metadata": {},
   "outputs": [],
   "source": [
    "x = iris.data\n",
    "print(x)\n",
    "# [\n",
    "#  [5.1 3.5 1.4 0.2]\n",
    "#  [4.9 3.  1.4 0.2]\n",
    "#  ...\n",
    "# ]"
   ]
  },
  {
   "cell_type": "markdown",
   "id": "560270f4",
   "metadata": {},
   "source": [
    "An numpy.**ndarray** where each of each item is a sample with **width/heigh** of **petal** and **sepal**\n",
    "\n",
    "A **ndarray** is like a list, but much more efficient and with additional methods\n",
    "\n",
    "widely used in machine learning due to its efficiency in working with giant data"
   ]
  },
  {
   "cell_type": "markdown",
   "id": "efc3824c-7472-4fbf-8dbb-fa05d6d04646",
   "metadata": {},
   "source": [
    "### Target (results)\n",
    "The species of each flower\n",
    "\n",
    "The target should be **numeric**\n"
   ]
  },
  {
   "cell_type": "code",
   "execution_count": null,
   "id": "397a57c5-018f-45e5-b27e-cf17852aac27",
   "metadata": {},
   "outputs": [],
   "source": [
    "y = iris.target\n",
    "print(y)\n",
    "# [ 0 0 1 1 2 2 0 2 0...]"
   ]
  },
  {
   "cell_type": "markdown",
   "id": "b3f4d3c2-4a7f-41dc-86c8-b1017e073903",
   "metadata": {},
   "source": [
    "### Target Name\n",
    "\n",
    "We can get the species name with **.target_names**"
   ]
  },
  {
   "cell_type": "code",
   "execution_count": null,
   "id": "26da7a4a-ea17-48b4-b9af-5dad47e97aa9",
   "metadata": {},
   "outputs": [],
   "source": [
    "print(iris.target_names)\n",
    "# ['setosa' 'versicolor' 'virginica']"
   ]
  },
  {
   "cell_type": "markdown",
   "id": "d8f7c41c-42f0-4c24-8627-89a6b8dc80d0",
   "metadata": {},
   "source": [
    "### observations shape\n",
    "We need to validate if the length of the observation(data) match length of the target(ids)\n",
    "\n",
    "We can get the length with the shape command"
   ]
  },
  {
   "cell_type": "code",
   "execution_count": null,
   "id": "0cb6ffca-151f-44c6-94f9-b4757df9d6a8",
   "metadata": {},
   "outputs": [],
   "source": [
    "print(iris.data.shape)\n",
    "# (150, 4)"
   ]
  },
  {
   "cell_type": "markdown",
   "id": "3d8e16f2-9839-481a-8c85-9310a44c90e1",
   "metadata": {},
   "source": [
    "### target shape\n"
   ]
  },
  {
   "cell_type": "code",
   "execution_count": null,
   "id": "411babd3-1d3c-413c-8fbe-52f5f03db9c6",
   "metadata": {},
   "outputs": [],
   "source": [
    "print(iris.target.shape)\n",
    "# (150,)"
   ]
  },
  {
   "cell_type": "markdown",
   "id": "479f59ae",
   "metadata": {},
   "source": [
    "## Statistical model\n",
    "We are going o use an statistical model to analyze the flowers and find out what specie is it using the measurement as input\n",
    "\n",
    "The model we are going to use is the **KNN**(K Nearest neighbors)"
   ]
  },
  {
   "cell_type": "markdown",
   "id": "6afbd067-f3e8-41d9-a460-a5e95ba42dc8",
   "metadata": {},
   "source": [
    "### KNN import"
   ]
  },
  {
   "cell_type": "code",
   "execution_count": null,
   "id": "6c0d099d-73ac-4e5b-a296-3fa49145e73e",
   "metadata": {},
   "outputs": [],
   "source": [
    "from sklearn.neighbors import KNeighborsClassifier\n",
    "# choose the initial value for k \n",
    "knn = KNeighborsClassifier(n_neighbors=1)"
   ]
  },
  {
   "cell_type": "markdown",
   "id": "af63c4b3-52eb-4a5d-8e05-53baf9acc563",
   "metadata": {},
   "source": [
    "### Train the machine\n",
    "We are going to train our app using KNN where it will analyze the target and the observation so it can predict the species by the measurement \n",
    "\n",
    "We can train our app using the method **fit**"
   ]
  },
  {
   "cell_type": "code",
   "execution_count": null,
   "id": "bfec13ee-faef-46b5-98eb-9e4d32ff0f3c",
   "metadata": {},
   "outputs": [],
   "source": [
    "knn.fit(x,y)"
   ]
  },
  {
   "cell_type": "markdown",
   "id": "65d4b43a-14d3-41b6-ba02-f2924c419042",
   "metadata": {},
   "source": [
    "### Do predictions\n",
    "We can do the prediction using the **predict** method\n",
    "\n",
    "The input is an array of sample observation(measurement)\n",
    "\n",
    "The response is an array with the target(id) of the species\n",
    "\n",
    "We can then use the **target_names** method to get the **species name**"
   ]
  },
  {
   "cell_type": "code",
   "execution_count": null,
   "id": "5625d5dd",
   "metadata": {},
   "outputs": [],
   "source": [
    "species = knn.predict([[5.9, 3, 5.1, 1.8]])\n",
    "print(species)\n",
    "## [2]\n",
    "print(iris.target_names[species[0]])\n",
    "## virginica"
   ]
  },
  {
   "cell_type": "markdown",
   "id": "88725580",
   "metadata": {},
   "source": [
    "## Separate data into two groups\n",
    "We are separating the data to ensure it is predicting correctly"
   ]
  },
  {
   "cell_type": "code",
   "execution_count": null,
   "id": "28121d98",
   "metadata": {},
   "outputs": [],
   "source": [
    "from sklearn.model_selection import train_test_split\n",
    "x_train, x_test, y_train, y_test = train_test_split(x, y, test_size=0.25)"
   ]
  },
  {
   "cell_type": "markdown",
   "id": "ccc02142",
   "metadata": {},
   "source": [
    "the method **train_test_split** will divide data for **training** and **testing** \n",
    "\n",
    "it will be divided **randomly**\n",
    "\n",
    "the **test_size = 25** means **75%** to **train** and **25%** to **test**\n"
   ]
  },
  {
   "cell_type": "markdown",
   "id": "60f73d81",
   "metadata": {},
   "source": [
    "## Model performance assessment\n",
    "We are going to know our accuracy\n",
    "\n",
    "first we train our model with the train observation"
   ]
  },
  {
   "cell_type": "code",
   "execution_count": null,
   "id": "53262887",
   "metadata": {},
   "outputs": [],
   "source": [
    "knn.fit(x_train, y_train)\n",
    "predictions = knn.predict(x_test)"
   ]
  },
  {
   "cell_type": "markdown",
   "id": "e0e8a4bc",
   "metadata": {},
   "source": [
    "Now we will get the accuracy using the metric from sklearn\n",
    "\n",
    "The first argument is the original data, and the second the prediction\n",
    "\n",
    "It will then check the percentage of correct predictions "
   ]
  },
  {
   "cell_type": "code",
   "execution_count": null,
   "id": "01e102a8",
   "metadata": {},
   "outputs": [],
   "source": [
    "from sklearn import metrics\n",
    "\n",
    "correct_predictions = metrics.accuracy_score(y_test, predictions)\n",
    "print(correct_predictions)\n",
    "# 0.9736842105263158"
   ]
  }
 ],
 "metadata": {
  "kernelspec": {
   "display_name": "Python 3 (ipykernel)",
   "language": "python",
   "name": "python3"
  },
  "language_info": {
   "codemirror_mode": {
    "name": "ipython",
    "version": 3
   },
   "file_extension": ".py",
   "mimetype": "text/x-python",
   "name": "python",
   "nbconvert_exporter": "python",
   "pygments_lexer": "ipython3",
   "version": "3.10.12"
  }
 },
 "nbformat": 4,
 "nbformat_minor": 5
}
