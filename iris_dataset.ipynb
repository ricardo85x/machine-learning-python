{
 "cells": [
  {
   "cell_type": "markdown",
   "id": "bdbc15a9-ee23-4f03-b20c-6de9a4e2c7c3",
   "metadata": {},
   "source": [
    "# Iris Dataset\n",
    "### Import Iris Dataset"
   ]
  },
  {
   "cell_type": "code",
   "execution_count": 2,
   "id": "7b684054-ba38-48b0-9e55-6f4b19725d93",
   "metadata": {},
   "outputs": [],
   "source": [
    "from sklearn.datasets import load_iris\n",
    "iris = load_iris()\n"
   ]
  },
  {
   "cell_type": "markdown",
   "id": "4214038f-4166-4c49-b7be-c72a0e93b8a2",
   "metadata": {},
   "source": [
    "### Observations"
   ]
  },
  {
   "cell_type": "markdown",
   "id": "3006cc82-6911-4d81-b972-9415bba466f2",
   "metadata": {},
   "source": [
    "print(iris.data)"
   ]
  },
  {
   "cell_type": "markdown",
   "id": "efc3824c-7472-4fbf-8dbb-fa05d6d04646",
   "metadata": {},
   "source": [
    "### Target (results)"
   ]
  },
  {
   "cell_type": "code",
   "execution_count": 5,
   "id": "397a57c5-018f-45e5-b27e-cf17852aac27",
   "metadata": {},
   "outputs": [
    {
     "name": "stdout",
     "output_type": "stream",
     "text": [
      "[0 0 0 0 0 0 0 0 0 0 0 0 0 0 0 0 0 0 0 0 0 0 0 0 0 0 0 0 0 0 0 0 0 0 0 0 0\n",
      " 0 0 0 0 0 0 0 0 0 0 0 0 0 1 1 1 1 1 1 1 1 1 1 1 1 1 1 1 1 1 1 1 1 1 1 1 1\n",
      " 1 1 1 1 1 1 1 1 1 1 1 1 1 1 1 1 1 1 1 1 1 1 1 1 1 1 2 2 2 2 2 2 2 2 2 2 2\n",
      " 2 2 2 2 2 2 2 2 2 2 2 2 2 2 2 2 2 2 2 2 2 2 2 2 2 2 2 2 2 2 2 2 2 2 2 2 2\n",
      " 2 2]\n"
     ]
    }
   ],
   "source": [
    "print(iris.target)"
   ]
  },
  {
   "cell_type": "markdown",
   "id": "b3f4d3c2-4a7f-41dc-86c8-b1017e073903",
   "metadata": {},
   "source": [
    "### Target Name"
   ]
  },
  {
   "cell_type": "code",
   "execution_count": 8,
   "id": "26da7a4a-ea17-48b4-b9af-5dad47e97aa9",
   "metadata": {},
   "outputs": [
    {
     "name": "stdout",
     "output_type": "stream",
     "text": [
      "['setosa' 'versicolor' 'virginica']\n"
     ]
    }
   ],
   "source": [
    "print(iris.target_names)"
   ]
  },
  {
   "cell_type": "markdown",
   "id": "d8f7c41c-42f0-4c24-8627-89a6b8dc80d0",
   "metadata": {},
   "source": [
    "### observations shape"
   ]
  },
  {
   "cell_type": "code",
   "execution_count": 10,
   "id": "0cb6ffca-151f-44c6-94f9-b4757df9d6a8",
   "metadata": {},
   "outputs": [
    {
     "name": "stdout",
     "output_type": "stream",
     "text": [
      "(150, 4)\n"
     ]
    }
   ],
   "source": [
    "print(iris.data.shape)"
   ]
  },
  {
   "cell_type": "markdown",
   "id": "3d8e16f2-9839-481a-8c85-9310a44c90e1",
   "metadata": {},
   "source": [
    "### target shape"
   ]
  },
  {
   "cell_type": "code",
   "execution_count": 11,
   "id": "411babd3-1d3c-413c-8fbe-52f5f03db9c6",
   "metadata": {},
   "outputs": [
    {
     "name": "stdout",
     "output_type": "stream",
     "text": [
      "(150,)\n"
     ]
    }
   ],
   "source": [
    "print(iris.target.shape)"
   ]
  },
  {
   "cell_type": "code",
   "execution_count": null,
   "id": "dc6c89fc-0077-4a15-ba85-492772f34e27",
   "metadata": {},
   "outputs": [],
   "source": []
  }
 ],
 "metadata": {
  "kernelspec": {
   "display_name": "Python 3 (ipykernel)",
   "language": "python",
   "name": "python3"
  },
  "language_info": {
   "codemirror_mode": {
    "name": "ipython",
    "version": 3
   },
   "file_extension": ".py",
   "mimetype": "text/x-python",
   "name": "python",
   "nbconvert_exporter": "python",
   "pygments_lexer": "ipython3",
   "version": "3.10.12"
  }
 },
 "nbformat": 4,
 "nbformat_minor": 5
}
